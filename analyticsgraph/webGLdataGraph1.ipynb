{
 "cells": [
  {
   "cell_type": "code",
   "execution_count": 1,
   "metadata": {},
   "outputs": [],
   "source": [
    "import pandas as pd\n",
    "import numpy as np\n",
    "import matplotlib.pyplot as plt\n",
    "%matplotlib inline\n",
    "import seaborn as sns"
   ]
  },
  {
   "cell_type": "code",
   "execution_count": 8,
   "metadata": {},
   "outputs": [],
   "source": [
    "data=pd.read_csv(r\"C:\\Users\\zerin\\Downloads\\Analytics(Responses).csv\")"
   ]
  },
  {
   "cell_type": "code",
   "execution_count": null,
   "metadata": {},
   "outputs": [],
   "source": []
  },
  {
   "cell_type": "code",
   "execution_count": null,
   "metadata": {},
   "outputs": [],
   "source": []
  },
  {
   "cell_type": "code",
   "execution_count": 9,
   "metadata": {},
   "outputs": [
    {
     "data": {
      "text/html": [
       "<div>\n",
       "<style scoped>\n",
       "    .dataframe tbody tr th:only-of-type {\n",
       "        vertical-align: middle;\n",
       "    }\n",
       "\n",
       "    .dataframe tbody tr th {\n",
       "        vertical-align: top;\n",
       "    }\n",
       "\n",
       "    .dataframe thead th {\n",
       "        text-align: right;\n",
       "    }\n",
       "</style>\n",
       "<table border=\"1\" class=\"dataframe\">\n",
       "  <thead>\n",
       "    <tr style=\"text-align: right;\">\n",
       "      <th></th>\n",
       "      <th>Timestamp</th>\n",
       "      <th>Session ID</th>\n",
       "      <th>Event</th>\n",
       "      <th>Time Remaining</th>\n",
       "      <th>Score</th>\n",
       "      <th>Arrows Count</th>\n",
       "      <th>Word Length</th>\n",
       "      <th>Category</th>\n",
       "    </tr>\n",
       "  </thead>\n",
       "  <tbody>\n",
       "    <tr>\n",
       "      <th>0</th>\n",
       "      <td>9/19/2022 20:58</td>\n",
       "      <td>80745f91-3b62-45e1-a9ce-fde8d0cb506f</td>\n",
       "      <td>Game Start</td>\n",
       "      <td>NaN</td>\n",
       "      <td>NaN</td>\n",
       "      <td>NaN</td>\n",
       "      <td>NaN</td>\n",
       "      <td>NaN</td>\n",
       "    </tr>\n",
       "    <tr>\n",
       "      <th>1</th>\n",
       "      <td>9/19/2022 20:59</td>\n",
       "      <td>80745f91-3b62-45e1-a9ce-fde8d0cb506f</td>\n",
       "      <td>Level Cleared</td>\n",
       "      <td>75.0</td>\n",
       "      <td>155.0</td>\n",
       "      <td>81.0</td>\n",
       "      <td>5.0</td>\n",
       "      <td>NaN</td>\n",
       "    </tr>\n",
       "    <tr>\n",
       "      <th>2</th>\n",
       "      <td>9/19/2022 21:03</td>\n",
       "      <td>9096d399-807a-45b4-8c5a-72b8b6120763</td>\n",
       "      <td>Game Start</td>\n",
       "      <td>NaN</td>\n",
       "      <td>NaN</td>\n",
       "      <td>NaN</td>\n",
       "      <td>NaN</td>\n",
       "      <td>NaN</td>\n",
       "    </tr>\n",
       "    <tr>\n",
       "      <th>3</th>\n",
       "      <td>9/19/2022 21:04</td>\n",
       "      <td>9096d399-807a-45b4-8c5a-72b8b6120763</td>\n",
       "      <td>Level Cleared</td>\n",
       "      <td>54.0</td>\n",
       "      <td>113.0</td>\n",
       "      <td>123.0</td>\n",
       "      <td>5.0</td>\n",
       "      <td>NaN</td>\n",
       "    </tr>\n",
       "    <tr>\n",
       "      <th>4</th>\n",
       "      <td>9/19/2022 21:05</td>\n",
       "      <td>5ea31376-7e3d-4fb6-8ebc-618e23fe4d14</td>\n",
       "      <td>Game Start</td>\n",
       "      <td>NaN</td>\n",
       "      <td>NaN</td>\n",
       "      <td>NaN</td>\n",
       "      <td>NaN</td>\n",
       "      <td>NaN</td>\n",
       "    </tr>\n",
       "    <tr>\n",
       "      <th>...</th>\n",
       "      <td>...</td>\n",
       "      <td>...</td>\n",
       "      <td>...</td>\n",
       "      <td>...</td>\n",
       "      <td>...</td>\n",
       "      <td>...</td>\n",
       "      <td>...</td>\n",
       "      <td>...</td>\n",
       "    </tr>\n",
       "    <tr>\n",
       "      <th>1174</th>\n",
       "      <td>10/3/2022 21:20</td>\n",
       "      <td>d0792729-c062-4a22-a0d4-1ec905b8ef4b</td>\n",
       "      <td>Game Start</td>\n",
       "      <td>NaN</td>\n",
       "      <td>NaN</td>\n",
       "      <td>NaN</td>\n",
       "      <td>NaN</td>\n",
       "      <td>Fruits</td>\n",
       "    </tr>\n",
       "    <tr>\n",
       "      <th>1175</th>\n",
       "      <td>10/3/2022 21:20</td>\n",
       "      <td>3f7d049f-c3e3-4608-a09c-19216f7dd51f</td>\n",
       "      <td>Game Start</td>\n",
       "      <td>NaN</td>\n",
       "      <td>NaN</td>\n",
       "      <td>NaN</td>\n",
       "      <td>NaN</td>\n",
       "      <td>Animals</td>\n",
       "    </tr>\n",
       "    <tr>\n",
       "      <th>1176</th>\n",
       "      <td>10/3/2022 21:22</td>\n",
       "      <td>d0792729-c062-4a22-a0d4-1ec905b8ef4b</td>\n",
       "      <td>Level Cleared</td>\n",
       "      <td>0.0</td>\n",
       "      <td>500.0</td>\n",
       "      <td>15.0</td>\n",
       "      <td>6.0</td>\n",
       "      <td>Fruits</td>\n",
       "    </tr>\n",
       "    <tr>\n",
       "      <th>1177</th>\n",
       "      <td>10/3/2022 21:45</td>\n",
       "      <td>949acc2b-9f3d-4e00-95b5-7582f383d1ee</td>\n",
       "      <td>Game Start</td>\n",
       "      <td>NaN</td>\n",
       "      <td>NaN</td>\n",
       "      <td>NaN</td>\n",
       "      <td>NaN</td>\n",
       "      <td>Fruits</td>\n",
       "    </tr>\n",
       "    <tr>\n",
       "      <th>1178</th>\n",
       "      <td>10/3/2022 22:09</td>\n",
       "      <td>d5426819-6f3e-49c2-97d1-1495d4495923</td>\n",
       "      <td>Game Start</td>\n",
       "      <td>NaN</td>\n",
       "      <td>NaN</td>\n",
       "      <td>NaN</td>\n",
       "      <td>NaN</td>\n",
       "      <td>Animals</td>\n",
       "    </tr>\n",
       "  </tbody>\n",
       "</table>\n",
       "<p>1179 rows × 8 columns</p>\n",
       "</div>"
      ],
      "text/plain": [
       "            Timestamp                            Session ID          Event  \\\n",
       "0     9/19/2022 20:58  80745f91-3b62-45e1-a9ce-fde8d0cb506f     Game Start   \n",
       "1     9/19/2022 20:59  80745f91-3b62-45e1-a9ce-fde8d0cb506f  Level Cleared   \n",
       "2     9/19/2022 21:03  9096d399-807a-45b4-8c5a-72b8b6120763     Game Start   \n",
       "3     9/19/2022 21:04  9096d399-807a-45b4-8c5a-72b8b6120763  Level Cleared   \n",
       "4     9/19/2022 21:05  5ea31376-7e3d-4fb6-8ebc-618e23fe4d14     Game Start   \n",
       "...               ...                                   ...            ...   \n",
       "1174  10/3/2022 21:20  d0792729-c062-4a22-a0d4-1ec905b8ef4b     Game Start   \n",
       "1175  10/3/2022 21:20  3f7d049f-c3e3-4608-a09c-19216f7dd51f     Game Start   \n",
       "1176  10/3/2022 21:22  d0792729-c062-4a22-a0d4-1ec905b8ef4b  Level Cleared   \n",
       "1177  10/3/2022 21:45  949acc2b-9f3d-4e00-95b5-7582f383d1ee     Game Start   \n",
       "1178  10/3/2022 22:09  d5426819-6f3e-49c2-97d1-1495d4495923     Game Start   \n",
       "\n",
       "      Time Remaining  Score  Arrows Count  Word Length Category  \n",
       "0                NaN    NaN           NaN          NaN      NaN  \n",
       "1               75.0  155.0          81.0          5.0      NaN  \n",
       "2                NaN    NaN           NaN          NaN      NaN  \n",
       "3               54.0  113.0         123.0          5.0      NaN  \n",
       "4                NaN    NaN           NaN          NaN      NaN  \n",
       "...              ...    ...           ...          ...      ...  \n",
       "1174             NaN    NaN           NaN          NaN   Fruits  \n",
       "1175             NaN    NaN           NaN          NaN  Animals  \n",
       "1176             0.0  500.0          15.0          6.0   Fruits  \n",
       "1177             NaN    NaN           NaN          NaN   Fruits  \n",
       "1178             NaN    NaN           NaN          NaN  Animals  \n",
       "\n",
       "[1179 rows x 8 columns]"
      ]
     },
     "execution_count": 9,
     "metadata": {},
     "output_type": "execute_result"
    }
   ],
   "source": [
    "data\n"
   ]
  },
  {
   "cell_type": "code",
   "execution_count": 10,
   "metadata": {},
   "outputs": [],
   "source": [
    "\n",
    "data.drop(data[data['Event'] == 'Level Cleared'].index, inplace = True)"
   ]
  },
  {
   "cell_type": "code",
   "execution_count": 11,
   "metadata": {},
   "outputs": [],
   "source": [
    "\n",
    "data.drop(data[data['Event'] == 'Level failed'].index, inplace = True)\n"
   ]
  },
  {
   "cell_type": "code",
   "execution_count": 12,
   "metadata": {},
   "outputs": [
    {
     "data": {
      "text/html": [
       "<div>\n",
       "<style scoped>\n",
       "    .dataframe tbody tr th:only-of-type {\n",
       "        vertical-align: middle;\n",
       "    }\n",
       "\n",
       "    .dataframe tbody tr th {\n",
       "        vertical-align: top;\n",
       "    }\n",
       "\n",
       "    .dataframe thead th {\n",
       "        text-align: right;\n",
       "    }\n",
       "</style>\n",
       "<table border=\"1\" class=\"dataframe\">\n",
       "  <thead>\n",
       "    <tr style=\"text-align: right;\">\n",
       "      <th></th>\n",
       "      <th>Timestamp</th>\n",
       "      <th>Session ID</th>\n",
       "      <th>Event</th>\n",
       "      <th>Time Remaining</th>\n",
       "      <th>Score</th>\n",
       "      <th>Arrows Count</th>\n",
       "      <th>Word Length</th>\n",
       "      <th>Category</th>\n",
       "    </tr>\n",
       "  </thead>\n",
       "  <tbody>\n",
       "    <tr>\n",
       "      <th>0</th>\n",
       "      <td>9/19/2022 20:58</td>\n",
       "      <td>80745f91-3b62-45e1-a9ce-fde8d0cb506f</td>\n",
       "      <td>Game Start</td>\n",
       "      <td>NaN</td>\n",
       "      <td>NaN</td>\n",
       "      <td>NaN</td>\n",
       "      <td>NaN</td>\n",
       "      <td>NaN</td>\n",
       "    </tr>\n",
       "    <tr>\n",
       "      <th>2</th>\n",
       "      <td>9/19/2022 21:03</td>\n",
       "      <td>9096d399-807a-45b4-8c5a-72b8b6120763</td>\n",
       "      <td>Game Start</td>\n",
       "      <td>NaN</td>\n",
       "      <td>NaN</td>\n",
       "      <td>NaN</td>\n",
       "      <td>NaN</td>\n",
       "      <td>NaN</td>\n",
       "    </tr>\n",
       "    <tr>\n",
       "      <th>4</th>\n",
       "      <td>9/19/2022 21:05</td>\n",
       "      <td>5ea31376-7e3d-4fb6-8ebc-618e23fe4d14</td>\n",
       "      <td>Game Start</td>\n",
       "      <td>NaN</td>\n",
       "      <td>NaN</td>\n",
       "      <td>NaN</td>\n",
       "      <td>NaN</td>\n",
       "      <td>NaN</td>\n",
       "    </tr>\n",
       "    <tr>\n",
       "      <th>6</th>\n",
       "      <td>9/19/2022 21:08</td>\n",
       "      <td>3ce3ab9d-0101-49fe-88e2-2a165f55e7a1</td>\n",
       "      <td>Game Start</td>\n",
       "      <td>NaN</td>\n",
       "      <td>NaN</td>\n",
       "      <td>NaN</td>\n",
       "      <td>NaN</td>\n",
       "      <td>NaN</td>\n",
       "    </tr>\n",
       "    <tr>\n",
       "      <th>8</th>\n",
       "      <td>9/19/2022 21:17</td>\n",
       "      <td>1f5f7677-26f4-4a26-be3e-ce7b9522eb51</td>\n",
       "      <td>Game Start</td>\n",
       "      <td>NaN</td>\n",
       "      <td>NaN</td>\n",
       "      <td>NaN</td>\n",
       "      <td>NaN</td>\n",
       "      <td>NaN</td>\n",
       "    </tr>\n",
       "    <tr>\n",
       "      <th>...</th>\n",
       "      <td>...</td>\n",
       "      <td>...</td>\n",
       "      <td>...</td>\n",
       "      <td>...</td>\n",
       "      <td>...</td>\n",
       "      <td>...</td>\n",
       "      <td>...</td>\n",
       "      <td>...</td>\n",
       "    </tr>\n",
       "    <tr>\n",
       "      <th>1173</th>\n",
       "      <td>10/3/2022 21:19</td>\n",
       "      <td>1056dc6a-ada9-4e49-be8e-d9844a186e73</td>\n",
       "      <td>Game Start</td>\n",
       "      <td>NaN</td>\n",
       "      <td>NaN</td>\n",
       "      <td>NaN</td>\n",
       "      <td>NaN</td>\n",
       "      <td>Movies</td>\n",
       "    </tr>\n",
       "    <tr>\n",
       "      <th>1174</th>\n",
       "      <td>10/3/2022 21:20</td>\n",
       "      <td>d0792729-c062-4a22-a0d4-1ec905b8ef4b</td>\n",
       "      <td>Game Start</td>\n",
       "      <td>NaN</td>\n",
       "      <td>NaN</td>\n",
       "      <td>NaN</td>\n",
       "      <td>NaN</td>\n",
       "      <td>Fruits</td>\n",
       "    </tr>\n",
       "    <tr>\n",
       "      <th>1175</th>\n",
       "      <td>10/3/2022 21:20</td>\n",
       "      <td>3f7d049f-c3e3-4608-a09c-19216f7dd51f</td>\n",
       "      <td>Game Start</td>\n",
       "      <td>NaN</td>\n",
       "      <td>NaN</td>\n",
       "      <td>NaN</td>\n",
       "      <td>NaN</td>\n",
       "      <td>Animals</td>\n",
       "    </tr>\n",
       "    <tr>\n",
       "      <th>1177</th>\n",
       "      <td>10/3/2022 21:45</td>\n",
       "      <td>949acc2b-9f3d-4e00-95b5-7582f383d1ee</td>\n",
       "      <td>Game Start</td>\n",
       "      <td>NaN</td>\n",
       "      <td>NaN</td>\n",
       "      <td>NaN</td>\n",
       "      <td>NaN</td>\n",
       "      <td>Fruits</td>\n",
       "    </tr>\n",
       "    <tr>\n",
       "      <th>1178</th>\n",
       "      <td>10/3/2022 22:09</td>\n",
       "      <td>d5426819-6f3e-49c2-97d1-1495d4495923</td>\n",
       "      <td>Game Start</td>\n",
       "      <td>NaN</td>\n",
       "      <td>NaN</td>\n",
       "      <td>NaN</td>\n",
       "      <td>NaN</td>\n",
       "      <td>Animals</td>\n",
       "    </tr>\n",
       "  </tbody>\n",
       "</table>\n",
       "<p>952 rows × 8 columns</p>\n",
       "</div>"
      ],
      "text/plain": [
       "            Timestamp                            Session ID       Event  \\\n",
       "0     9/19/2022 20:58  80745f91-3b62-45e1-a9ce-fde8d0cb506f  Game Start   \n",
       "2     9/19/2022 21:03  9096d399-807a-45b4-8c5a-72b8b6120763  Game Start   \n",
       "4     9/19/2022 21:05  5ea31376-7e3d-4fb6-8ebc-618e23fe4d14  Game Start   \n",
       "6     9/19/2022 21:08  3ce3ab9d-0101-49fe-88e2-2a165f55e7a1  Game Start   \n",
       "8     9/19/2022 21:17  1f5f7677-26f4-4a26-be3e-ce7b9522eb51  Game Start   \n",
       "...               ...                                   ...         ...   \n",
       "1173  10/3/2022 21:19  1056dc6a-ada9-4e49-be8e-d9844a186e73  Game Start   \n",
       "1174  10/3/2022 21:20  d0792729-c062-4a22-a0d4-1ec905b8ef4b  Game Start   \n",
       "1175  10/3/2022 21:20  3f7d049f-c3e3-4608-a09c-19216f7dd51f  Game Start   \n",
       "1177  10/3/2022 21:45  949acc2b-9f3d-4e00-95b5-7582f383d1ee  Game Start   \n",
       "1178  10/3/2022 22:09  d5426819-6f3e-49c2-97d1-1495d4495923  Game Start   \n",
       "\n",
       "      Time Remaining  Score  Arrows Count  Word Length Category  \n",
       "0                NaN    NaN           NaN          NaN      NaN  \n",
       "2                NaN    NaN           NaN          NaN      NaN  \n",
       "4                NaN    NaN           NaN          NaN      NaN  \n",
       "6                NaN    NaN           NaN          NaN      NaN  \n",
       "8                NaN    NaN           NaN          NaN      NaN  \n",
       "...              ...    ...           ...          ...      ...  \n",
       "1173             NaN    NaN           NaN          NaN   Movies  \n",
       "1174             NaN    NaN           NaN          NaN   Fruits  \n",
       "1175             NaN    NaN           NaN          NaN  Animals  \n",
       "1177             NaN    NaN           NaN          NaN   Fruits  \n",
       "1178             NaN    NaN           NaN          NaN  Animals  \n",
       "\n",
       "[952 rows x 8 columns]"
      ]
     },
     "execution_count": 12,
     "metadata": {},
     "output_type": "execute_result"
    }
   ],
   "source": [
    "\n",
    "data"
   ]
  },
  {
   "cell_type": "code",
   "execution_count": 13,
   "metadata": {},
   "outputs": [
    {
     "name": "stdout",
     "output_type": "stream",
     "text": [
      "            Timestamp                            Session ID       Event  \\\n",
      "0     9/19/2022 20:58  80745f91-3b62-45e1-a9ce-fde8d0cb506f  Game Start   \n",
      "2     9/19/2022 21:03  9096d399-807a-45b4-8c5a-72b8b6120763  Game Start   \n",
      "4     9/19/2022 21:05  5ea31376-7e3d-4fb6-8ebc-618e23fe4d14  Game Start   \n",
      "6     9/19/2022 21:08  3ce3ab9d-0101-49fe-88e2-2a165f55e7a1  Game Start   \n",
      "8     9/19/2022 21:17  1f5f7677-26f4-4a26-be3e-ce7b9522eb51  Game Start   \n",
      "...               ...                                   ...         ...   \n",
      "1173  10/3/2022 21:19  1056dc6a-ada9-4e49-be8e-d9844a186e73  Game Start   \n",
      "1174  10/3/2022 21:20  d0792729-c062-4a22-a0d4-1ec905b8ef4b  Game Start   \n",
      "1175  10/3/2022 21:20  3f7d049f-c3e3-4608-a09c-19216f7dd51f  Game Start   \n",
      "1177  10/3/2022 21:45  949acc2b-9f3d-4e00-95b5-7582f383d1ee  Game Start   \n",
      "1178  10/3/2022 22:09  d5426819-6f3e-49c2-97d1-1495d4495923  Game Start   \n",
      "\n",
      "      Time Remaining  Score  Arrows Count  Word Length Category  \n",
      "0                NaN    NaN           NaN          NaN      NaN  \n",
      "2                NaN    NaN           NaN          NaN      NaN  \n",
      "4                NaN    NaN           NaN          NaN      NaN  \n",
      "6                NaN    NaN           NaN          NaN      NaN  \n",
      "8                NaN    NaN           NaN          NaN      NaN  \n",
      "...              ...    ...           ...          ...      ...  \n",
      "1173             NaN    NaN           NaN          NaN   Movies  \n",
      "1174             NaN    NaN           NaN          NaN   Fruits  \n",
      "1175             NaN    NaN           NaN          NaN  Animals  \n",
      "1177             NaN    NaN           NaN          NaN   Fruits  \n",
      "1178             NaN    NaN           NaN          NaN  Animals  \n",
      "\n",
      "[952 rows x 8 columns]\n"
     ]
    }
   ],
   "source": [
    "\n",
    "print(data)"
   ]
  },
  {
   "cell_type": "code",
   "execution_count": null,
   "metadata": {},
   "outputs": [],
   "source": []
  },
  {
   "cell_type": "code",
   "execution_count": 14,
   "metadata": {},
   "outputs": [
    {
     "data": {
      "text/plain": [
       "<seaborn.axisgrid.FacetGrid at 0x21744cd4730>"
      ]
     },
     "execution_count": 14,
     "metadata": {},
     "output_type": "execute_result"
    },
    {
     "data": {
      "image/png": "[encoded data removed]",
      "text/plain": [
       "<Figure size 468x360 with 1 Axes>"
      ]
     },
     "metadata": {
      "needs_background": "light"
     },
     "output_type": "display_data"
    }
   ],
   "source": [
    "sns.catplot(x = \"Category\", hue = \"Event\", kind = \"count\", data = data)"
   ]
  },
  {
   "cell_type": "code",
   "execution_count": 264,
   "metadata": {},
   "outputs": [
    {
     "data": {
      "text/plain": [
       "<AxesSubplot:ylabel='Category'>"
      ]
     },
     "execution_count": 264,
     "metadata": {},
     "output_type": "execute_result"
    },
    {
     "data": {
      "image/png": "[encoded data removed]",
      "text/plain": [
       "<Figure size 432x288 with 1 Axes>"
      ]
     },
     "metadata": {},
     "output_type": "display_data"
    }
   ],
   "source": [
    "data['Category'].value_counts().plot(kind='pie',autopct='%1.0f%%')\n"
   ]
  },
  {
   "cell_type": "code",
   "execution_count": 265,
   "metadata": {},
   "outputs": [
    {
     "data": {
      "text/plain": [
       "<AxesSubplot:>"
      ]
     },
     "execution_count": 265,
     "metadata": {},
     "output_type": "execute_result"
    },
    {
     "data": {
      "image/png": "[encoded data removed]",
      "text/plain": [
       "<Figure size 432x288 with 1 Axes>"
      ]
     },
     "metadata": {
      "needs_background": "light"
     },
     "output_type": "display_data"
    }
   ],
   "source": [
    "data['Category'].value_counts().plot(kind='bar')"
   ]
  },
  {
   "cell_type": "code",
   "execution_count": 255,
   "metadata": {},
   "outputs": [],
   "source": [
    "data.loc[:, \"Time Remaining\"] = data[\"Time Remaining\"].apply(lambda x: 120 - x)"
   ]
  },
  {
   "cell_type": "code",
   "execution_count": 256,
   "metadata": {},
   "outputs": [
    {
     "name": "stdout",
     "output_type": "stream",
     "text": [
      "            Timestamp                            Session ID       Event  \\\n",
      "0     9/19/2022 20:58  80745f91-3b62-45e1-a9ce-fde8d0cb506f  Game Start   \n",
      "2     9/19/2022 21:03  9096d399-807a-45b4-8c5a-72b8b6120763  Game Start   \n",
      "4     9/19/2022 21:05  5ea31376-7e3d-4fb6-8ebc-618e23fe4d14  Game Start   \n",
      "6     9/19/2022 21:08  3ce3ab9d-0101-49fe-88e2-2a165f55e7a1  Game Start   \n",
      "8     9/19/2022 21:17  1f5f7677-26f4-4a26-be3e-ce7b9522eb51  Game Start   \n",
      "...               ...                                   ...         ...   \n",
      "1173  10/3/2022 21:19  1056dc6a-ada9-4e49-be8e-d9844a186e73  Game Start   \n",
      "1174  10/3/2022 21:20  d0792729-c062-4a22-a0d4-1ec905b8ef4b  Game Start   \n",
      "1175  10/3/2022 21:20  3f7d049f-c3e3-4608-a09c-19216f7dd51f  Game Start   \n",
      "1177  10/3/2022 21:45  949acc2b-9f3d-4e00-95b5-7582f383d1ee  Game Start   \n",
      "1178  10/3/2022 22:09  d5426819-6f3e-49c2-97d1-1495d4495923  Game Start   \n",
      "\n",
      "      Time Remaining  Score  Arrows Count  Word Length Category  \n",
      "0                NaN    NaN           NaN          NaN      NaN  \n",
      "2                NaN    NaN           NaN          NaN      NaN  \n",
      "4                NaN    NaN           NaN          NaN      NaN  \n",
      "6                NaN    NaN           NaN          NaN      NaN  \n",
      "8                NaN    NaN           NaN          NaN      NaN  \n",
      "...              ...    ...           ...          ...      ...  \n",
      "1173             NaN    NaN           NaN          NaN   Movies  \n",
      "1174             NaN    NaN           NaN          NaN   Fruits  \n",
      "1175             NaN    NaN           NaN          NaN  Animals  \n",
      "1177             NaN    NaN           NaN          NaN   Fruits  \n",
      "1178             NaN    NaN           NaN          NaN  Animals  \n",
      "\n",
      "[952 rows x 8 columns]\n"
     ]
    }
   ],
   "source": [
    "print(data)"
   ]
  },
  {
   "cell_type": "code",
   "execution_count": 257,
   "metadata": {},
   "outputs": [
    {
     "data": {
      "image/png": "[encoded data removed]",
      "text/plain": [
       "<Figure size 432x288 with 1 Axes>"
      ]
     },
     "metadata": {
      "needs_background": "light"
     },
     "output_type": "display_data"
    }
   ],
   "source": [
    "sns.barplot(x=\"Word Length\",y=\"Time Remaining\",data=data)\n",
    "plt.xlabel(\"Word Length\")\n",
    "plt.ylabel(\"Time Elapsed\")\n",
    "plt.show()"
   ]
  },
  {
   "cell_type": "code",
   "execution_count": 258,
   "metadata": {},
   "outputs": [
    {
     "data": {
      "image/png": "[encoded data removed]",
      "text/plain": [
       "<Figure size 432x288 with 1 Axes>"
      ]
     },
     "metadata": {
      "needs_background": "light"
     },
     "output_type": "display_data"
    }
   ],
   "source": [
    "sns.barplot(x=\"Category\",y=\"Time Remaining\",data=data)\n",
    "plt.xlabel(\"Category\")\n",
    "plt.ylabel(\"Time Elapsed\")\n",
    "plt.show()"
   ]
  },
  {
   "cell_type": "code",
   "execution_count": 259,
   "metadata": {},
   "outputs": [
    {
     "data": {
      "image/png": "[encoded data removed]",
      "text/plain": [
       "<Figure size 432x288 with 1 Axes>"
      ]
     },
     "metadata": {
      "needs_background": "light"
     },
     "output_type": "display_data"
    }
   ],
   "source": [
    "sns.barplot(x=\"Category\",y=\"Score\",data=data)\n",
    "plt.xlabel(\"Category\")\n",
    "plt.ylabel(\"Score\")\n",
    "plt.show()"
   ]
  },
  {
   "cell_type": "code",
   "execution_count": 261,
   "metadata": {},
   "outputs": [
    {
     "data": {
      "image/png": "[encoded data removed]",
      "text/plain": [
       "<Figure size 432x288 with 1 Axes>"
      ]
     },
     "metadata": {
      "needs_background": "light"
     },
     "output_type": "display_data"
    }
   ],
   "source": [
    "sns.barplot(x=\"Word Length\",y=\"Score\",data=data)\n",
    "plt.xlabel(\"Word Length\")\n",
    "plt.ylabel(\"Score\")\n",
    "plt.show()"
   ]
  },
  {
   "cell_type": "code",
   "execution_count": 161,
   "metadata": {},
   "outputs": [
    {
     "name": "stdout",
     "output_type": "stream",
     "text": [
      "      Arrows Count  Word Length Category  Score  Time Remaining          Event\n",
      "0             11.0          6.0   Movies  400.0             0.0     Game Start\n",
      "1             81.0          5.0   Movies  155.0            75.0  Level Cleared\n",
      "2             11.0          6.0   Movies  400.0             0.0     Game Start\n",
      "3            123.0          5.0   Movies  113.0            54.0  Level Cleared\n",
      "4             11.0          6.0   Movies  400.0             0.0     Game Start\n",
      "...            ...          ...      ...    ...             ...            ...\n",
      "1136          11.0          6.0   Movies  400.0             0.0     Game Start\n",
      "1137          11.0          6.0   Movies  400.0             0.0     Game Start\n",
      "1138          11.0          6.0   Movies  400.0             0.0     Game Start\n",
      "1139          11.0          6.0   Movies  400.0             0.0     Game Start\n",
      "1140          11.0          6.0   Movies  400.0             0.0     Game Start\n",
      "\n",
      "[1141 rows x 6 columns]\n"
     ]
    }
   ],
   "source": [
    "data=data.apply(lambda x: x.fillna(x.value_counts().index[0]))\n",
    "print(data)"
   ]
  },
  {
   "cell_type": "code",
   "execution_count": 53,
   "metadata": {},
   "outputs": [
    {
     "ename": "TypeError",
     "evalue": "'NoneType' object is not subscriptable",
     "output_type": "error",
     "traceback": [
      "\u001b[1;31m---------------------------------------------------------------------------\u001b[0m",
      "\u001b[1;31mTypeError\u001b[0m                                 Traceback (most recent call last)",
      "\u001b[1;32m<ipython-input-53-735d06ccc54a>\u001b[0m in \u001b[0;36m<module>\u001b[1;34m\u001b[0m\n\u001b[1;32m----> 1\u001b[1;33m \u001b[0mdata\u001b[0m\u001b[1;33m=\u001b[0m\u001b[0mdata\u001b[0m\u001b[1;33m[\u001b[0m\u001b[1;34m'Time Remaining'\u001b[0m\u001b[1;33m]\u001b[0m\u001b[1;33m.\u001b[0m\u001b[0mfillna\u001b[0m\u001b[1;33m(\u001b[0m\u001b[0mint\u001b[0m\u001b[1;33m(\u001b[0m\u001b[0mdata\u001b[0m\u001b[1;33m[\u001b[0m\u001b[1;34m'Time Remaining'\u001b[0m\u001b[1;33m]\u001b[0m\u001b[1;33m.\u001b[0m\u001b[0mmean\u001b[0m\u001b[1;33m(\u001b[0m\u001b[1;33m)\u001b[0m\u001b[1;33m)\u001b[0m\u001b[1;33m,\u001b[0m \u001b[0minplace\u001b[0m\u001b[1;33m=\u001b[0m\u001b[1;32mTrue\u001b[0m\u001b[1;33m)\u001b[0m\u001b[1;33m\u001b[0m\u001b[1;33m\u001b[0m\u001b[0m\n\u001b[0m\u001b[0;32m      2\u001b[0m \u001b[0mprint\u001b[0m\u001b[1;33m(\u001b[0m\u001b[0mdata\u001b[0m\u001b[1;33m)\u001b[0m\u001b[1;33m\u001b[0m\u001b[1;33m\u001b[0m\u001b[0m\n",
      "\u001b[1;31mTypeError\u001b[0m: 'NoneType' object is not subscriptable"
     ]
    }
   ],
   "source": [
    "#data=data['Time Remaining'].fillna(int(data['Time Remaining'].mean()), inplace=True)\n",
    "#print(data)"
   ]
  },
  {
   "cell_type": "code",
   "execution_count": 54,
   "metadata": {},
   "outputs": [
    {
     "ename": "TypeError",
     "evalue": "'NoneType' object is not subscriptable",
     "output_type": "error",
     "traceback": [
      "\u001b[1;31m---------------------------------------------------------------------------\u001b[0m",
      "\u001b[1;31mTypeError\u001b[0m                                 Traceback (most recent call last)",
      "\u001b[1;32m<ipython-input-54-df18d122943b>\u001b[0m in \u001b[0;36m<module>\u001b[1;34m\u001b[0m\n\u001b[1;32m----> 1\u001b[1;33m \u001b[0mdata\u001b[0m\u001b[1;33m=\u001b[0m\u001b[0mdata\u001b[0m\u001b[1;33m[\u001b[0m\u001b[1;34m'Score'\u001b[0m\u001b[1;33m]\u001b[0m\u001b[1;33m.\u001b[0m\u001b[0mfillna\u001b[0m\u001b[1;33m(\u001b[0m\u001b[0mint\u001b[0m\u001b[1;33m(\u001b[0m\u001b[0mdata\u001b[0m\u001b[1;33m[\u001b[0m\u001b[1;34m'Score'\u001b[0m\u001b[1;33m]\u001b[0m\u001b[1;33m.\u001b[0m\u001b[0mmean\u001b[0m\u001b[1;33m(\u001b[0m\u001b[1;33m)\u001b[0m\u001b[1;33m)\u001b[0m\u001b[1;33m,\u001b[0m \u001b[0minplace\u001b[0m\u001b[1;33m=\u001b[0m\u001b[1;32mTrue\u001b[0m\u001b[1;33m)\u001b[0m\u001b[1;33m\u001b[0m\u001b[1;33m\u001b[0m\u001b[0m\n\u001b[0m\u001b[0;32m      2\u001b[0m \u001b[0mprint\u001b[0m\u001b[1;33m(\u001b[0m\u001b[0mdata\u001b[0m\u001b[1;33m)\u001b[0m\u001b[1;33m\u001b[0m\u001b[1;33m\u001b[0m\u001b[0m\n",
      "\u001b[1;31mTypeError\u001b[0m: 'NoneType' object is not subscriptable"
     ]
    }
   ],
   "source": [
    "#data=data['Score'].fillna(int(data['Score'].mean()), inplace=True)\n",
    "#print(data)"
   ]
  },
  {
   "cell_type": "code",
   "execution_count": 35,
   "metadata": {},
   "outputs": [
    {
     "name": "stdout",
     "output_type": "stream",
     "text": [
      "      Arrows Count  Word Length Category  Score  Time Remaining\n",
      "0              NaN          6.0      NaN  672.0            74.0\n",
      "1             81.0          5.0      NaN  155.0            45.0\n",
      "2              NaN          6.0      NaN  672.0            74.0\n",
      "3            123.0          5.0      NaN  113.0            66.0\n",
      "4              NaN          6.0      NaN  672.0            74.0\n",
      "...            ...          ...      ...    ...             ...\n",
      "1136           NaN          6.0      NaN  672.0            74.0\n",
      "1137           NaN          6.0      NaN  672.0            74.0\n",
      "1138           NaN          6.0      NaN  672.0            74.0\n",
      "1139           NaN          6.0      NaN  672.0            74.0\n",
      "1140           NaN          6.0      NaN  672.0            74.0\n",
      "\n",
      "[1141 rows x 5 columns]\n"
     ]
    }
   ],
   "source": [
    "#data=data['Word Length'].fillna(int(data['Word Length'].mode()), inplace=True)\n",
    "#print(data)"
   ]
  },
  {
   "cell_type": "code",
   "execution_count": 36,
   "metadata": {},
   "outputs": [
    {
     "name": "stdout",
     "output_type": "stream",
     "text": [
      "      Arrows Count  Word Length Category  Score  Time Remaining\n",
      "0              NaN          6.0      NaN  672.0            74.0\n",
      "1             81.0          5.0      NaN  155.0            45.0\n",
      "2              NaN          6.0      NaN  672.0            74.0\n",
      "3            123.0          5.0      NaN  113.0            66.0\n",
      "4              NaN          6.0      NaN  672.0            74.0\n",
      "...            ...          ...      ...    ...             ...\n",
      "1136           NaN          6.0      NaN  672.0            74.0\n",
      "1137           NaN          6.0      NaN  672.0            74.0\n",
      "1138           NaN          6.0      NaN  672.0            74.0\n",
      "1139           NaN          6.0      NaN  672.0            74.0\n",
      "1140           NaN          6.0      NaN  672.0            74.0\n",
      "\n",
      "[1141 rows x 5 columns]\n"
     ]
    }
   ],
   "source": [
    "#data=data['Time Remaining'].fillna(int(data['Time Remaining'].mean()), inplace=True)\n",
    "#print(data)"
   ]
  },
  {
   "cell_type": "code",
   "execution_count": 37,
   "metadata": {},
   "outputs": [
    {
     "name": "stdout",
     "output_type": "stream",
     "text": [
      "0       46.0\n",
      "1       75.0\n",
      "2       46.0\n",
      "3       54.0\n",
      "4       46.0\n",
      "        ... \n",
      "1136    46.0\n",
      "1137    46.0\n",
      "1138    46.0\n",
      "1139    46.0\n",
      "1140    46.0\n",
      "Name: Time Remaining, Length: 1141, dtype: float64\n"
     ]
    }
   ],
   "source": [
    "#time = 120- data['Time Remaining']\n",
    "#print (time)"
   ]
  },
  {
   "cell_type": "code",
   "execution_count": 162,
   "metadata": {},
   "outputs": [],
   "source": [
    "#data.loc[:, \"Time Remaining\"] = data[\"Time Remaining\"].apply(lambda x: 120 - x)"
   ]
  },
  {
   "cell_type": "code",
   "execution_count": 163,
   "metadata": {},
   "outputs": [
    {
     "name": "stdout",
     "output_type": "stream",
     "text": [
      "      Arrows Count  Word Length Category  Score  Time Remaining          Event\n",
      "0             11.0          6.0   Movies  400.0           120.0     Game Start\n",
      "1             81.0          5.0   Movies  155.0            45.0  Level Cleared\n",
      "2             11.0          6.0   Movies  400.0           120.0     Game Start\n",
      "3            123.0          5.0   Movies  113.0            66.0  Level Cleared\n",
      "4             11.0          6.0   Movies  400.0           120.0     Game Start\n",
      "...            ...          ...      ...    ...             ...            ...\n",
      "1136          11.0          6.0   Movies  400.0           120.0     Game Start\n",
      "1137          11.0          6.0   Movies  400.0           120.0     Game Start\n",
      "1138          11.0          6.0   Movies  400.0           120.0     Game Start\n",
      "1139          11.0          6.0   Movies  400.0           120.0     Game Start\n",
      "1140          11.0          6.0   Movies  400.0           120.0     Game Start\n",
      "\n",
      "[1141 rows x 6 columns]\n"
     ]
    }
   ],
   "source": [
    "#print(data)"
   ]
  },
  {
   "cell_type": "code",
   "execution_count": 39,
   "metadata": {},
   "outputs": [],
   "source": [
    "#meanTime = data['Time Remaining'].mean()"
   ]
  },
  {
   "cell_type": "code",
   "execution_count": 160,
   "metadata": {},
   "outputs": [
    {
     "data": {
      "text/plain": [
       "Text(0, 0.5, 'Time Elapsed')"
      ]
     },
     "execution_count": 160,
     "metadata": {},
     "output_type": "execute_result"
    },
    {
     "data": {
      "image/png": "[encoded data removed]",
      "text/plain": [
       "<Figure size 432x288 with 1 Axes>"
      ]
     },
     "metadata": {
      "needs_background": "light"
     },
     "output_type": "display_data"
    }
   ],
   "source": [
    "X=np.array(data[\"Word Length\"]).reshape(-1,1)\n",
    "Y=np.array(data[\"Time Remaining\"]).reshape(-1,1)\n",
    "plt.scatter(X,Y, marker=\"+\",color=\"green\")\n",
    "plt.xlabel(\"Word Length\")\n",
    "plt.ylabel(\"Time Elapsed\")"
   ]
  },
  {
   "cell_type": "code",
   "execution_count": 61,
   "metadata": {},
   "outputs": [
    {
     "data": {
      "text/plain": [
       "Text(0, 0.5, 'Score')"
      ]
     },
     "execution_count": 61,
     "metadata": {},
     "output_type": "execute_result"
    },
    {
     "data": {
      "image/png": "[encoded data removed]",
      "text/plain": [
       "<Figure size 432x288 with 1 Axes>"
      ]
     },
     "metadata": {
      "needs_background": "light"
     },
     "output_type": "display_data"
    }
   ],
   "source": [
    "X=np.array(data[\"Time Remaining\"]).reshape(-1,1)\n",
    "Y=np.array(data[\"Score\"]).reshape(-1,1)\n",
    "plt.scatter(X,Y, marker=\"+\",color=\"green\")\n",
    "plt.xlabel(\"Time Remaining\")\n",
    "plt.ylabel(\"Score\")\n"
   ]
  },
  {
   "cell_type": "code",
   "execution_count": 62,
   "metadata": {},
   "outputs": [
    {
     "data": {
      "text/plain": [
       "Text(0, 0.5, 'Arrows Count')"
      ]
     },
     "execution_count": 62,
     "metadata": {},
     "output_type": "execute_result"
    },
    {
     "data": {
      "image/png": "[encoded data removed]",
      "text/plain": [
       "<Figure size 432x288 with 1 Axes>"
      ]
     },
     "metadata": {
      "needs_background": "light"
     },
     "output_type": "display_data"
    }
   ],
   "source": [
    "X=np.array(data[\"Time Remaining\"]).reshape(-1,1)\n",
    "Y=np.array(data[\"Arrows Count\"]).reshape(-1,1)\n",
    "plt.scatter(X,Y, marker=\"+\",color=\"green\")\n",
    "plt.xlabel(\"Time Remaining\")\n",
    "plt.ylabel(\"Arrows Count\")"
   ]
  },
  {
   "cell_type": "code",
   "execution_count": 43,
   "metadata": {},
   "outputs": [
    {
     "data": {
      "image/png": "[encoded data removed]",
      "text/plain": [
       "<Figure size 432x288 with 1 Axes>"
      ]
     },
     "metadata": {},
     "output_type": "display_data"
    }
   ],
   "source": [
    "categories = ['Movies', 'Animals', 'Places', 'Fruits'] \n",
    "\n",
    "  \n",
    "# portion covered by each label \n",
    "\n",
    "slices = [3, 7, 8, 6] \n",
    "\n",
    "  \n",
    "# color for each label \n",
    "\n",
    "colors = ['r', 'y', 'g', 'b'] \n",
    "\n",
    "  \n",
    "# plotting the pie chart \n",
    "\n",
    "plt.pie(slices, labels = categories, colors=colors,  \n",
    "\n",
    "        startangle=90, shadow = True, explode = (0, 0, 0, 0), \n",
    "\n",
    "        radius = 1.7,autopct = '%1.1f%%')\n",
    "\n",
    "  \n",
    "# plotting legend \n",
    "#plt.legend() \n",
    "\n",
    "  \n",
    "# showing the plot \n",
    "plt.show() \n",
    " "
   ]
  },
  {
   "cell_type": "code",
   "execution_count": 44,
   "metadata": {},
   "outputs": [
    {
     "data": {
      "image/png": "[encoded data removed]",
      "text/plain": [
       "<Figure size 432x288 with 1 Axes>"
      ]
     },
     "metadata": {
      "needs_background": "light"
     },
     "output_type": "display_data"
    }
   ],
   "source": [
    "X = ['Movies','Places','Animals','Fruits'] \n",
    "\n",
    "success = [10,20,20,40] \n",
    "\n",
    "failure = [20,30,25,30] \n",
    "\n",
    "  \n",
    "\n",
    "X_axis = np.arange(len(X)) \n",
    "\n",
    "  \n",
    "\n",
    "plt.bar(X_axis - 0.2, success, 0.4, label = 'Success') \n",
    "\n",
    "plt.bar(X_axis + 0.2, failure, 0.4, label = 'Failure') \n",
    "\n",
    "  \n",
    "plt.xticks(X_axis, X) \n",
    "\n",
    "plt.xlabel(\"Categories\") \n",
    "\n",
    "plt.ylabel(\"Number of Players\") \n",
    "\n",
    "plt.title(\"Outcome\") \n",
    "plt.legend() \n",
    "plt.show() "
   ]
  },
  {
   "cell_type": "code",
   "execution_count": null,
   "metadata": {},
   "outputs": [],
   "source": []
  },
  {
   "cell_type": "markdown",
   "metadata": {},
   "source": []
  },
  {
   "cell_type": "code",
   "execution_count": 2,
   "metadata": {},
   "outputs": [],
   "source": [
    "dataA=pd.read_csv(r\"C:\\Users\\zerin\\Documents\\gameData1.csv\")"
   ]
  },
  {
   "cell_type": "code",
   "execution_count": 3,
   "metadata": {},
   "outputs": [
    {
     "data": {
      "text/html": [
       "<div>\n",
       "<style scoped>\n",
       "    .dataframe tbody tr th:only-of-type {\n",
       "        vertical-align: middle;\n",
       "    }\n",
       "\n",
       "    .dataframe tbody tr th {\n",
       "        vertical-align: top;\n",
       "    }\n",
       "\n",
       "    .dataframe thead th {\n",
       "        text-align: right;\n",
       "    }\n",
       "</style>\n",
       "<table border=\"1\" class=\"dataframe\">\n",
       "  <thead>\n",
       "    <tr style=\"text-align: right;\">\n",
       "      <th></th>\n",
       "      <th>Timestamp</th>\n",
       "      <th>Session ID</th>\n",
       "      <th>Event</th>\n",
       "      <th>Time Remaining</th>\n",
       "      <th>Score</th>\n",
       "      <th>Arrows Count</th>\n",
       "      <th>Word Length</th>\n",
       "      <th>Category</th>\n",
       "      <th>Levels</th>\n",
       "    </tr>\n",
       "  </thead>\n",
       "  <tbody>\n",
       "    <tr>\n",
       "      <th>0</th>\n",
       "      <td>9/19/2022 20:58:15</td>\n",
       "      <td>80745f91-3b62-45e1-a9ce-fde8d0cb506f</td>\n",
       "      <td>Game Start</td>\n",
       "      <td>NaN</td>\n",
       "      <td>NaN</td>\n",
       "      <td>NaN</td>\n",
       "      <td>NaN</td>\n",
       "      <td>NaN</td>\n",
       "      <td>NaN</td>\n",
       "    </tr>\n",
       "    <tr>\n",
       "      <th>1</th>\n",
       "      <td>9/19/2022 20:59:00</td>\n",
       "      <td>80745f91-3b62-45e1-a9ce-fde8d0cb506f</td>\n",
       "      <td>Level Cleared</td>\n",
       "      <td>75.0</td>\n",
       "      <td>155.0</td>\n",
       "      <td>81.0</td>\n",
       "      <td>5.0</td>\n",
       "      <td>NaN</td>\n",
       "      <td>NaN</td>\n",
       "    </tr>\n",
       "    <tr>\n",
       "      <th>2</th>\n",
       "      <td>9/19/2022 21:03:41</td>\n",
       "      <td>9096d399-807a-45b4-8c5a-72b8b6120763</td>\n",
       "      <td>Game Start</td>\n",
       "      <td>NaN</td>\n",
       "      <td>NaN</td>\n",
       "      <td>NaN</td>\n",
       "      <td>NaN</td>\n",
       "      <td>NaN</td>\n",
       "      <td>NaN</td>\n",
       "    </tr>\n",
       "    <tr>\n",
       "      <th>3</th>\n",
       "      <td>9/19/2022 21:04:47</td>\n",
       "      <td>9096d399-807a-45b4-8c5a-72b8b6120763</td>\n",
       "      <td>Level Cleared</td>\n",
       "      <td>54.0</td>\n",
       "      <td>113.0</td>\n",
       "      <td>123.0</td>\n",
       "      <td>5.0</td>\n",
       "      <td>NaN</td>\n",
       "      <td>NaN</td>\n",
       "    </tr>\n",
       "    <tr>\n",
       "      <th>4</th>\n",
       "      <td>9/19/2022 21:05:11</td>\n",
       "      <td>5ea31376-7e3d-4fb6-8ebc-618e23fe4d14</td>\n",
       "      <td>Game Start</td>\n",
       "      <td>NaN</td>\n",
       "      <td>NaN</td>\n",
       "      <td>NaN</td>\n",
       "      <td>NaN</td>\n",
       "      <td>NaN</td>\n",
       "      <td>NaN</td>\n",
       "    </tr>\n",
       "    <tr>\n",
       "      <th>...</th>\n",
       "      <td>...</td>\n",
       "      <td>...</td>\n",
       "      <td>...</td>\n",
       "      <td>...</td>\n",
       "      <td>...</td>\n",
       "      <td>...</td>\n",
       "      <td>...</td>\n",
       "      <td>...</td>\n",
       "      <td>...</td>\n",
       "    </tr>\n",
       "    <tr>\n",
       "      <th>3675</th>\n",
       "      <td>10/16/2022 11:40:07</td>\n",
       "      <td>320761d9-f8c0-46b8-a4b5-a1bced68bc59</td>\n",
       "      <td>Enemey Touched</td>\n",
       "      <td>23.0</td>\n",
       "      <td>846.0</td>\n",
       "      <td>13.0</td>\n",
       "      <td>6.0</td>\n",
       "      <td>Movies</td>\n",
       "      <td>Level_2</td>\n",
       "    </tr>\n",
       "    <tr>\n",
       "      <th>3676</th>\n",
       "      <td>10/16/2022 11:40:07</td>\n",
       "      <td>320761d9-f8c0-46b8-a4b5-a1bced68bc59</td>\n",
       "      <td>Enemey Touched</td>\n",
       "      <td>13.0</td>\n",
       "      <td>826.0</td>\n",
       "      <td>13.0</td>\n",
       "      <td>6.0</td>\n",
       "      <td>Movies</td>\n",
       "      <td>Level_2</td>\n",
       "    </tr>\n",
       "    <tr>\n",
       "      <th>3677</th>\n",
       "      <td>10/16/2022 11:40:07</td>\n",
       "      <td>320761d9-f8c0-46b8-a4b5-a1bced68bc59</td>\n",
       "      <td>Enemey Touched</td>\n",
       "      <td>3.0</td>\n",
       "      <td>806.0</td>\n",
       "      <td>13.0</td>\n",
       "      <td>6.0</td>\n",
       "      <td>Movies</td>\n",
       "      <td>Level_2</td>\n",
       "    </tr>\n",
       "    <tr>\n",
       "      <th>3678</th>\n",
       "      <td>10/16/2022 11:40:07</td>\n",
       "      <td>320761d9-f8c0-46b8-a4b5-a1bced68bc59</td>\n",
       "      <td>Enemey Touched</td>\n",
       "      <td>0.0</td>\n",
       "      <td>800.0</td>\n",
       "      <td>13.0</td>\n",
       "      <td>6.0</td>\n",
       "      <td>Movies</td>\n",
       "      <td>Level_2</td>\n",
       "    </tr>\n",
       "    <tr>\n",
       "      <th>3679</th>\n",
       "      <td>10/16/2022 11:40:08</td>\n",
       "      <td>320761d9-f8c0-46b8-a4b5-a1bced68bc59</td>\n",
       "      <td>Level Cleared</td>\n",
       "      <td>0.0</td>\n",
       "      <td>800.0</td>\n",
       "      <td>13.0</td>\n",
       "      <td>6.0</td>\n",
       "      <td>Movies</td>\n",
       "      <td>Level_2</td>\n",
       "    </tr>\n",
       "  </tbody>\n",
       "</table>\n",
       "<p>3680 rows × 9 columns</p>\n",
       "</div>"
      ],
      "text/plain": [
       "                Timestamp                            Session ID  \\\n",
       "0      9/19/2022 20:58:15  80745f91-3b62-45e1-a9ce-fde8d0cb506f   \n",
       "1      9/19/2022 20:59:00  80745f91-3b62-45e1-a9ce-fde8d0cb506f   \n",
       "2      9/19/2022 21:03:41  9096d399-807a-45b4-8c5a-72b8b6120763   \n",
       "3      9/19/2022 21:04:47  9096d399-807a-45b4-8c5a-72b8b6120763   \n",
       "4      9/19/2022 21:05:11  5ea31376-7e3d-4fb6-8ebc-618e23fe4d14   \n",
       "...                   ...                                   ...   \n",
       "3675  10/16/2022 11:40:07  320761d9-f8c0-46b8-a4b5-a1bced68bc59   \n",
       "3676  10/16/2022 11:40:07  320761d9-f8c0-46b8-a4b5-a1bced68bc59   \n",
       "3677  10/16/2022 11:40:07  320761d9-f8c0-46b8-a4b5-a1bced68bc59   \n",
       "3678  10/16/2022 11:40:07  320761d9-f8c0-46b8-a4b5-a1bced68bc59   \n",
       "3679  10/16/2022 11:40:08  320761d9-f8c0-46b8-a4b5-a1bced68bc59   \n",
       "\n",
       "               Event  Time Remaining  Score  Arrows Count  Word Length  \\\n",
       "0         Game Start             NaN    NaN           NaN          NaN   \n",
       "1      Level Cleared            75.0  155.0          81.0          5.0   \n",
       "2         Game Start             NaN    NaN           NaN          NaN   \n",
       "3      Level Cleared            54.0  113.0         123.0          5.0   \n",
       "4         Game Start             NaN    NaN           NaN          NaN   \n",
       "...              ...             ...    ...           ...          ...   \n",
       "3675  Enemey Touched            23.0  846.0          13.0          6.0   \n",
       "3676  Enemey Touched            13.0  826.0          13.0          6.0   \n",
       "3677  Enemey Touched             3.0  806.0          13.0          6.0   \n",
       "3678  Enemey Touched             0.0  800.0          13.0          6.0   \n",
       "3679   Level Cleared             0.0  800.0          13.0          6.0   \n",
       "\n",
       "     Category   Levels  \n",
       "0         NaN      NaN  \n",
       "1         NaN      NaN  \n",
       "2         NaN      NaN  \n",
       "3         NaN      NaN  \n",
       "4         NaN      NaN  \n",
       "...       ...      ...  \n",
       "3675   Movies  Level_2  \n",
       "3676   Movies  Level_2  \n",
       "3677   Movies  Level_2  \n",
       "3678   Movies  Level_2  \n",
       "3679   Movies  Level_2  \n",
       "\n",
       "[3680 rows x 9 columns]"
      ]
     },
     "execution_count": 3,
     "metadata": {},
     "output_type": "execute_result"
    }
   ],
   "source": [
    "dataA\n"
   ]
  },
  {
   "cell_type": "code",
   "execution_count": 16,
   "metadata": {},
   "outputs": [
    {
     "data": {
      "text/html": [
       "<div>\n",
       "<style scoped>\n",
       "    .dataframe tbody tr th:only-of-type {\n",
       "        vertical-align: middle;\n",
       "    }\n",
       "\n",
       "    .dataframe tbody tr th {\n",
       "        vertical-align: top;\n",
       "    }\n",
       "\n",
       "    .dataframe thead th {\n",
       "        text-align: right;\n",
       "    }\n",
       "</style>\n",
       "<table border=\"1\" class=\"dataframe\">\n",
       "  <thead>\n",
       "    <tr style=\"text-align: right;\">\n",
       "      <th></th>\n",
       "      <th>Timestamp</th>\n",
       "      <th>Session ID</th>\n",
       "      <th>Event</th>\n",
       "      <th>Time Remaining</th>\n",
       "      <th>Score</th>\n",
       "      <th>Arrows Count</th>\n",
       "      <th>Word Length</th>\n",
       "      <th>Category</th>\n",
       "      <th>Levels</th>\n",
       "    </tr>\n",
       "  </thead>\n",
       "  <tbody>\n",
       "  </tbody>\n",
       "</table>\n",
       "</div>"
      ],
      "text/plain": [
       "Empty DataFrame\n",
       "Columns: [Timestamp, Session ID, Event, Time Remaining, Score, Arrows Count, Word Length, Category, Levels]\n",
       "Index: []"
      ]
     },
     "execution_count": 16,
     "metadata": {},
     "output_type": "execute_result"
    }
   ],
   "source": []
  },
  {
   "cell_type": "code",
   "execution_count": 17,
   "metadata": {},
   "outputs": [
    {
     "data": {
      "text/html": [
       "<div>\n",
       "<style scoped>\n",
       "    .dataframe tbody tr th:only-of-type {\n",
       "        vertical-align: middle;\n",
       "    }\n",
       "\n",
       "    .dataframe tbody tr th {\n",
       "        vertical-align: top;\n",
       "    }\n",
       "\n",
       "    .dataframe thead th {\n",
       "        text-align: right;\n",
       "    }\n",
       "</style>\n",
       "<table border=\"1\" class=\"dataframe\">\n",
       "  <thead>\n",
       "    <tr style=\"text-align: right;\">\n",
       "      <th></th>\n",
       "      <th>Timestamp</th>\n",
       "      <th>Session ID</th>\n",
       "      <th>Event</th>\n",
       "      <th>Time Remaining</th>\n",
       "      <th>Score</th>\n",
       "      <th>Arrows Count</th>\n",
       "      <th>Word Length</th>\n",
       "      <th>Category</th>\n",
       "      <th>Levels</th>\n",
       "    </tr>\n",
       "  </thead>\n",
       "  <tbody>\n",
       "    <tr>\n",
       "      <th>0</th>\n",
       "      <td>9/19/2022 20:58:15</td>\n",
       "      <td>80745f91-3b62-45e1-a9ce-fde8d0cb506f</td>\n",
       "      <td>Game Start</td>\n",
       "      <td>NaN</td>\n",
       "      <td>NaN</td>\n",
       "      <td>NaN</td>\n",
       "      <td>NaN</td>\n",
       "      <td>NaN</td>\n",
       "      <td>NaN</td>\n",
       "    </tr>\n",
       "    <tr>\n",
       "      <th>2</th>\n",
       "      <td>9/19/2022 21:03:41</td>\n",
       "      <td>9096d399-807a-45b4-8c5a-72b8b6120763</td>\n",
       "      <td>Game Start</td>\n",
       "      <td>NaN</td>\n",
       "      <td>NaN</td>\n",
       "      <td>NaN</td>\n",
       "      <td>NaN</td>\n",
       "      <td>NaN</td>\n",
       "      <td>NaN</td>\n",
       "    </tr>\n",
       "    <tr>\n",
       "      <th>4</th>\n",
       "      <td>9/19/2022 21:05:11</td>\n",
       "      <td>5ea31376-7e3d-4fb6-8ebc-618e23fe4d14</td>\n",
       "      <td>Game Start</td>\n",
       "      <td>NaN</td>\n",
       "      <td>NaN</td>\n",
       "      <td>NaN</td>\n",
       "      <td>NaN</td>\n",
       "      <td>NaN</td>\n",
       "      <td>NaN</td>\n",
       "    </tr>\n",
       "    <tr>\n",
       "      <th>6</th>\n",
       "      <td>9/19/2022 21:08:55</td>\n",
       "      <td>3ce3ab9d-0101-49fe-88e2-2a165f55e7a1</td>\n",
       "      <td>Game Start</td>\n",
       "      <td>NaN</td>\n",
       "      <td>NaN</td>\n",
       "      <td>NaN</td>\n",
       "      <td>NaN</td>\n",
       "      <td>NaN</td>\n",
       "      <td>NaN</td>\n",
       "    </tr>\n",
       "    <tr>\n",
       "      <th>8</th>\n",
       "      <td>9/19/2022 21:17:37</td>\n",
       "      <td>1f5f7677-26f4-4a26-be3e-ce7b9522eb51</td>\n",
       "      <td>Game Start</td>\n",
       "      <td>NaN</td>\n",
       "      <td>NaN</td>\n",
       "      <td>NaN</td>\n",
       "      <td>NaN</td>\n",
       "      <td>NaN</td>\n",
       "      <td>NaN</td>\n",
       "    </tr>\n",
       "    <tr>\n",
       "      <th>...</th>\n",
       "      <td>...</td>\n",
       "      <td>...</td>\n",
       "      <td>...</td>\n",
       "      <td>...</td>\n",
       "      <td>...</td>\n",
       "      <td>...</td>\n",
       "      <td>...</td>\n",
       "      <td>...</td>\n",
       "      <td>...</td>\n",
       "    </tr>\n",
       "    <tr>\n",
       "      <th>3674</th>\n",
       "      <td>10/16/2022 11:40:07</td>\n",
       "      <td>320761d9-f8c0-46b8-a4b5-a1bced68bc59</td>\n",
       "      <td>Enemey Touched</td>\n",
       "      <td>33.0</td>\n",
       "      <td>866.0</td>\n",
       "      <td>13.0</td>\n",
       "      <td>6.0</td>\n",
       "      <td>Movies</td>\n",
       "      <td>Level_2</td>\n",
       "    </tr>\n",
       "    <tr>\n",
       "      <th>3675</th>\n",
       "      <td>10/16/2022 11:40:07</td>\n",
       "      <td>320761d9-f8c0-46b8-a4b5-a1bced68bc59</td>\n",
       "      <td>Enemey Touched</td>\n",
       "      <td>23.0</td>\n",
       "      <td>846.0</td>\n",
       "      <td>13.0</td>\n",
       "      <td>6.0</td>\n",
       "      <td>Movies</td>\n",
       "      <td>Level_2</td>\n",
       "    </tr>\n",
       "    <tr>\n",
       "      <th>3676</th>\n",
       "      <td>10/16/2022 11:40:07</td>\n",
       "      <td>320761d9-f8c0-46b8-a4b5-a1bced68bc59</td>\n",
       "      <td>Enemey Touched</td>\n",
       "      <td>13.0</td>\n",
       "      <td>826.0</td>\n",
       "      <td>13.0</td>\n",
       "      <td>6.0</td>\n",
       "      <td>Movies</td>\n",
       "      <td>Level_2</td>\n",
       "    </tr>\n",
       "    <tr>\n",
       "      <th>3677</th>\n",
       "      <td>10/16/2022 11:40:07</td>\n",
       "      <td>320761d9-f8c0-46b8-a4b5-a1bced68bc59</td>\n",
       "      <td>Enemey Touched</td>\n",
       "      <td>3.0</td>\n",
       "      <td>806.0</td>\n",
       "      <td>13.0</td>\n",
       "      <td>6.0</td>\n",
       "      <td>Movies</td>\n",
       "      <td>Level_2</td>\n",
       "    </tr>\n",
       "    <tr>\n",
       "      <th>3678</th>\n",
       "      <td>10/16/2022 11:40:07</td>\n",
       "      <td>320761d9-f8c0-46b8-a4b5-a1bced68bc59</td>\n",
       "      <td>Enemey Touched</td>\n",
       "      <td>0.0</td>\n",
       "      <td>800.0</td>\n",
       "      <td>13.0</td>\n",
       "      <td>6.0</td>\n",
       "      <td>Movies</td>\n",
       "      <td>Level_2</td>\n",
       "    </tr>\n",
       "  </tbody>\n",
       "</table>\n",
       "<p>3402 rows × 9 columns</p>\n",
       "</div>"
      ],
      "text/plain": [
       "                Timestamp                            Session ID  \\\n",
       "0      9/19/2022 20:58:15  80745f91-3b62-45e1-a9ce-fde8d0cb506f   \n",
       "2      9/19/2022 21:03:41  9096d399-807a-45b4-8c5a-72b8b6120763   \n",
       "4      9/19/2022 21:05:11  5ea31376-7e3d-4fb6-8ebc-618e23fe4d14   \n",
       "6      9/19/2022 21:08:55  3ce3ab9d-0101-49fe-88e2-2a165f55e7a1   \n",
       "8      9/19/2022 21:17:37  1f5f7677-26f4-4a26-be3e-ce7b9522eb51   \n",
       "...                   ...                                   ...   \n",
       "3674  10/16/2022 11:40:07  320761d9-f8c0-46b8-a4b5-a1bced68bc59   \n",
       "3675  10/16/2022 11:40:07  320761d9-f8c0-46b8-a4b5-a1bced68bc59   \n",
       "3676  10/16/2022 11:40:07  320761d9-f8c0-46b8-a4b5-a1bced68bc59   \n",
       "3677  10/16/2022 11:40:07  320761d9-f8c0-46b8-a4b5-a1bced68bc59   \n",
       "3678  10/16/2022 11:40:07  320761d9-f8c0-46b8-a4b5-a1bced68bc59   \n",
       "\n",
       "               Event  Time Remaining  Score  Arrows Count  Word Length  \\\n",
       "0         Game Start             NaN    NaN           NaN          NaN   \n",
       "2         Game Start             NaN    NaN           NaN          NaN   \n",
       "4         Game Start             NaN    NaN           NaN          NaN   \n",
       "6         Game Start             NaN    NaN           NaN          NaN   \n",
       "8         Game Start             NaN    NaN           NaN          NaN   \n",
       "...              ...             ...    ...           ...          ...   \n",
       "3674  Enemey Touched            33.0  866.0          13.0          6.0   \n",
       "3675  Enemey Touched            23.0  846.0          13.0          6.0   \n",
       "3676  Enemey Touched            13.0  826.0          13.0          6.0   \n",
       "3677  Enemey Touched             3.0  806.0          13.0          6.0   \n",
       "3678  Enemey Touched             0.0  800.0          13.0          6.0   \n",
       "\n",
       "     Category   Levels  \n",
       "0         NaN      NaN  \n",
       "2         NaN      NaN  \n",
       "4         NaN      NaN  \n",
       "6         NaN      NaN  \n",
       "8         NaN      NaN  \n",
       "...       ...      ...  \n",
       "3674   Movies  Level_2  \n",
       "3675   Movies  Level_2  \n",
       "3676   Movies  Level_2  \n",
       "3677   Movies  Level_2  \n",
       "3678   Movies  Level_2  \n",
       "\n",
       "[3402 rows x 9 columns]"
      ]
     },
     "execution_count": 17,
     "metadata": {},
     "output_type": "execute_result"
    }
   ],
   "source": [
    "dataA"
   ]
  },
  {
   "cell_type": "code",
   "execution_count": 18,
   "metadata": {},
   "outputs": [
    {
     "data": {
      "text/plain": [
       "<seaborn.axisgrid.FacetGrid at 0x21745132e80>"
      ]
     },
     "execution_count": 18,
     "metadata": {},
     "output_type": "execute_result"
    },
    {
     "data": {
      "image/png": "[encoded data removed]",
      "text/plain": [
       "<Figure size 484.5x360 with 1 Axes>"
      ]
     },
     "metadata": {
      "needs_background": "light"
     },
     "output_type": "display_data"
    }
   ],
   "source": [
    "sns.catplot(x = \"Levels\", hue = \"Event\", kind = \"count\", data = dataA)"
   ]
  },
  {
   "cell_type": "code",
   "execution_count": 22,
   "metadata": {},
   "outputs": [],
   "source": [
    "dataA.drop(dataA[dataA['Event'] == 'Level failed'].index, inplace = True)"
   ]
  },
  {
   "cell_type": "code",
   "execution_count": 26,
   "metadata": {},
   "outputs": [],
   "source": [
    "dataA.drop(dataA[dataA['Event'] == 'Char Revealed 1'].index, inplace = True)\n",
    "dataA.drop(dataA[dataA['Event'] == 'Char Revealed 2'].index, inplace = True)\n",
    "dataA.drop(dataA[dataA['Event'] == 'Char Revealed 3'].index, inplace = True)\n",
    "dataA.drop(dataA[dataA['Event'] == 'Char Revealed 4'].index, inplace = True)\n",
    "dataA.drop(dataA[dataA['Event'] == 'Char Revealed 5'].index, inplace = True)\n",
    "dataA.drop(dataA[dataA['Event'] == 'Char Revealed 6'].index, inplace = True)\n",
    "dataA.drop(dataA[dataA['Event'] == 'Char Revealed 7'].index, inplace = True)\n",
    "dataA.drop(dataA[dataA['Event'] == 'Char Revealed 8'].index, inplace = True)\n",
    "dataA.drop(dataA[dataA['Event'] == 'Char Revealed 9'].index, inplace = True)\n",
    "dataA.drop(dataA[dataA['Event'] == 'Char Revealed 10'].index, inplace = True)\n",
    "dataA.drop(dataA[dataA['Event'] == 'Enemey Touched'].index, inplace = True)\n",
    "dataA.drop(dataA[dataA['Event'] == 'Enemey Hit'].index, inplace = True)\n",
    "dataA.drop(dataA[dataA['Event'] == 'Power up : 2x'].index, inplace = True)\n",
    "dataA.drop(dataA[dataA['Event'] == 'Power up: +5'].index, inplace = True)\n",
    "dataA.drop(dataA[dataA['Event'] == 'Bomb hit'].index, inplace = True)"
   ]
  },
  {
   "cell_type": "code",
   "execution_count": 27,
   "metadata": {},
   "outputs": [
    {
     "data": {
      "text/html": [
       "<div>\n",
       "<style scoped>\n",
       "    .dataframe tbody tr th:only-of-type {\n",
       "        vertical-align: middle;\n",
       "    }\n",
       "\n",
       "    .dataframe tbody tr th {\n",
       "        vertical-align: top;\n",
       "    }\n",
       "\n",
       "    .dataframe thead th {\n",
       "        text-align: right;\n",
       "    }\n",
       "</style>\n",
       "<table border=\"1\" class=\"dataframe\">\n",
       "  <thead>\n",
       "    <tr style=\"text-align: right;\">\n",
       "      <th></th>\n",
       "      <th>Timestamp</th>\n",
       "      <th>Session ID</th>\n",
       "      <th>Event</th>\n",
       "      <th>Time Remaining</th>\n",
       "      <th>Score</th>\n",
       "      <th>Arrows Count</th>\n",
       "      <th>Word Length</th>\n",
       "      <th>Category</th>\n",
       "      <th>Levels</th>\n",
       "    </tr>\n",
       "  </thead>\n",
       "  <tbody>\n",
       "    <tr>\n",
       "      <th>0</th>\n",
       "      <td>9/19/2022 20:58:15</td>\n",
       "      <td>80745f91-3b62-45e1-a9ce-fde8d0cb506f</td>\n",
       "      <td>Game Start</td>\n",
       "      <td>NaN</td>\n",
       "      <td>NaN</td>\n",
       "      <td>NaN</td>\n",
       "      <td>NaN</td>\n",
       "      <td>NaN</td>\n",
       "      <td>NaN</td>\n",
       "    </tr>\n",
       "    <tr>\n",
       "      <th>2</th>\n",
       "      <td>9/19/2022 21:03:41</td>\n",
       "      <td>9096d399-807a-45b4-8c5a-72b8b6120763</td>\n",
       "      <td>Game Start</td>\n",
       "      <td>NaN</td>\n",
       "      <td>NaN</td>\n",
       "      <td>NaN</td>\n",
       "      <td>NaN</td>\n",
       "      <td>NaN</td>\n",
       "      <td>NaN</td>\n",
       "    </tr>\n",
       "    <tr>\n",
       "      <th>4</th>\n",
       "      <td>9/19/2022 21:05:11</td>\n",
       "      <td>5ea31376-7e3d-4fb6-8ebc-618e23fe4d14</td>\n",
       "      <td>Game Start</td>\n",
       "      <td>NaN</td>\n",
       "      <td>NaN</td>\n",
       "      <td>NaN</td>\n",
       "      <td>NaN</td>\n",
       "      <td>NaN</td>\n",
       "      <td>NaN</td>\n",
       "    </tr>\n",
       "    <tr>\n",
       "      <th>6</th>\n",
       "      <td>9/19/2022 21:08:55</td>\n",
       "      <td>3ce3ab9d-0101-49fe-88e2-2a165f55e7a1</td>\n",
       "      <td>Game Start</td>\n",
       "      <td>NaN</td>\n",
       "      <td>NaN</td>\n",
       "      <td>NaN</td>\n",
       "      <td>NaN</td>\n",
       "      <td>NaN</td>\n",
       "      <td>NaN</td>\n",
       "    </tr>\n",
       "    <tr>\n",
       "      <th>8</th>\n",
       "      <td>9/19/2022 21:17:37</td>\n",
       "      <td>1f5f7677-26f4-4a26-be3e-ce7b9522eb51</td>\n",
       "      <td>Game Start</td>\n",
       "      <td>NaN</td>\n",
       "      <td>NaN</td>\n",
       "      <td>NaN</td>\n",
       "      <td>NaN</td>\n",
       "      <td>NaN</td>\n",
       "      <td>NaN</td>\n",
       "    </tr>\n",
       "    <tr>\n",
       "      <th>...</th>\n",
       "      <td>...</td>\n",
       "      <td>...</td>\n",
       "      <td>...</td>\n",
       "      <td>...</td>\n",
       "      <td>...</td>\n",
       "      <td>...</td>\n",
       "      <td>...</td>\n",
       "      <td>...</td>\n",
       "      <td>...</td>\n",
       "    </tr>\n",
       "    <tr>\n",
       "      <th>3631</th>\n",
       "      <td>10/16/2022 11:37:36</td>\n",
       "      <td>320761d9-f8c0-46b8-a4b5-a1bced68bc59</td>\n",
       "      <td>Word Guessed</td>\n",
       "      <td>NaN</td>\n",
       "      <td>NaN</td>\n",
       "      <td>NaN</td>\n",
       "      <td>4.0</td>\n",
       "      <td>Movies</td>\n",
       "      <td>Level_0</td>\n",
       "    </tr>\n",
       "    <tr>\n",
       "      <th>3632</th>\n",
       "      <td>10/16/2022 11:37:37</td>\n",
       "      <td>320761d9-f8c0-46b8-a4b5-a1bced68bc59</td>\n",
       "      <td>Game Start</td>\n",
       "      <td>NaN</td>\n",
       "      <td>NaN</td>\n",
       "      <td>NaN</td>\n",
       "      <td>NaN</td>\n",
       "      <td>Movies</td>\n",
       "      <td>Level_1</td>\n",
       "    </tr>\n",
       "    <tr>\n",
       "      <th>3638</th>\n",
       "      <td>10/16/2022 11:38:09</td>\n",
       "      <td>320761d9-f8c0-46b8-a4b5-a1bced68bc59</td>\n",
       "      <td>Word Guessed</td>\n",
       "      <td>106.0</td>\n",
       "      <td>512.0</td>\n",
       "      <td>4.0</td>\n",
       "      <td>3.0</td>\n",
       "      <td>Movies</td>\n",
       "      <td>Level_1</td>\n",
       "    </tr>\n",
       "    <tr>\n",
       "      <th>3655</th>\n",
       "      <td>10/16/2022 11:38:42</td>\n",
       "      <td>320761d9-f8c0-46b8-a4b5-a1bced68bc59</td>\n",
       "      <td>Game Start</td>\n",
       "      <td>NaN</td>\n",
       "      <td>NaN</td>\n",
       "      <td>NaN</td>\n",
       "      <td>NaN</td>\n",
       "      <td>Movies</td>\n",
       "      <td>Level_2</td>\n",
       "    </tr>\n",
       "    <tr>\n",
       "      <th>3666</th>\n",
       "      <td>10/16/2022 11:39:50</td>\n",
       "      <td>320761d9-f8c0-46b8-a4b5-a1bced68bc59</td>\n",
       "      <td>Word Guessed</td>\n",
       "      <td>81.0</td>\n",
       "      <td>762.0</td>\n",
       "      <td>8.0</td>\n",
       "      <td>6.0</td>\n",
       "      <td>Movies</td>\n",
       "      <td>Level_2</td>\n",
       "    </tr>\n",
       "  </tbody>\n",
       "</table>\n",
       "<p>1527 rows × 9 columns</p>\n",
       "</div>"
      ],
      "text/plain": [
       "                Timestamp                            Session ID         Event  \\\n",
       "0      9/19/2022 20:58:15  80745f91-3b62-45e1-a9ce-fde8d0cb506f    Game Start   \n",
       "2      9/19/2022 21:03:41  9096d399-807a-45b4-8c5a-72b8b6120763    Game Start   \n",
       "4      9/19/2022 21:05:11  5ea31376-7e3d-4fb6-8ebc-618e23fe4d14    Game Start   \n",
       "6      9/19/2022 21:08:55  3ce3ab9d-0101-49fe-88e2-2a165f55e7a1    Game Start   \n",
       "8      9/19/2022 21:17:37  1f5f7677-26f4-4a26-be3e-ce7b9522eb51    Game Start   \n",
       "...                   ...                                   ...           ...   \n",
       "3631  10/16/2022 11:37:36  320761d9-f8c0-46b8-a4b5-a1bced68bc59  Word Guessed   \n",
       "3632  10/16/2022 11:37:37  320761d9-f8c0-46b8-a4b5-a1bced68bc59    Game Start   \n",
       "3638  10/16/2022 11:38:09  320761d9-f8c0-46b8-a4b5-a1bced68bc59  Word Guessed   \n",
       "3655  10/16/2022 11:38:42  320761d9-f8c0-46b8-a4b5-a1bced68bc59    Game Start   \n",
       "3666  10/16/2022 11:39:50  320761d9-f8c0-46b8-a4b5-a1bced68bc59  Word Guessed   \n",
       "\n",
       "      Time Remaining  Score  Arrows Count  Word Length Category   Levels  \n",
       "0                NaN    NaN           NaN          NaN      NaN      NaN  \n",
       "2                NaN    NaN           NaN          NaN      NaN      NaN  \n",
       "4                NaN    NaN           NaN          NaN      NaN      NaN  \n",
       "6                NaN    NaN           NaN          NaN      NaN      NaN  \n",
       "8                NaN    NaN           NaN          NaN      NaN      NaN  \n",
       "...              ...    ...           ...          ...      ...      ...  \n",
       "3631             NaN    NaN           NaN          4.0   Movies  Level_0  \n",
       "3632             NaN    NaN           NaN          NaN   Movies  Level_1  \n",
       "3638           106.0  512.0           4.0          3.0   Movies  Level_1  \n",
       "3655             NaN    NaN           NaN          NaN   Movies  Level_2  \n",
       "3666            81.0  762.0           8.0          6.0   Movies  Level_2  \n",
       "\n",
       "[1527 rows x 9 columns]"
      ]
     },
     "execution_count": 27,
     "metadata": {},
     "output_type": "execute_result"
    }
   ],
   "source": [
    "dataA\n"
   ]
  },
  {
   "cell_type": "code",
   "execution_count": 28,
   "metadata": {},
   "outputs": [
    {
     "data": {
      "text/plain": [
       "<seaborn.axisgrid.FacetGrid at 0x217453db910>"
      ]
     },
     "execution_count": 28,
     "metadata": {},
     "output_type": "execute_result"
    },
    {
     "data": {
      "image/png": "[encoded data removed]",
      "text/plain": [
       "<Figure size 468x360 with 1 Axes>"
      ]
     },
     "metadata": {
      "needs_background": "light"
     },
     "output_type": "display_data"
    }
   ],
   "source": [
    "sns.catplot(x = \"Levels\", hue = \"Event\", kind = \"count\", data = dataA)"
   ]
  },
  {
   "cell_type": "code",
   "execution_count": 29,
   "metadata": {},
   "outputs": [
    {
     "data": {
      "text/plain": [
       "<seaborn.axisgrid.FacetGrid at 0x217454338e0>"
      ]
     },
     "execution_count": 29,
     "metadata": {},
     "output_type": "execute_result"
    },
    {
     "data": {
      "image/png": "[encoded data removed]",
      "text/plain": [
       "<Figure size 436x360 with 1 Axes>"
      ]
     },
     "metadata": {
      "needs_background": "light"
     },
     "output_type": "display_data"
    }
   ],
   "source": [
    "sns.catplot(x = \"Levels\", hue = \"Category\", kind = \"count\", data = dataA)"
   ]
  },
  {
   "cell_type": "code",
   "execution_count": 30,
   "metadata": {},
   "outputs": [],
   "source": [
    "dataA.loc[:, \"Time Remaining\"] = dataA[\"Time Remaining\"].apply(lambda x: 120 - x)\n"
   ]
  },
  {
   "cell_type": "code",
   "execution_count": 32,
   "metadata": {},
   "outputs": [],
   "source": [
    "dataA.drop(dataA[dataA['Levels'] == '0'].index, inplace = True)"
   ]
  },
  {
   "cell_type": "code",
   "execution_count": null,
   "metadata": {},
   "outputs": [],
   "source": []
  },
  {
   "cell_type": "code",
   "execution_count": 33,
   "metadata": {},
   "outputs": [
    {
     "data": {
      "image/png": "[encoded data removed]",
      "text/plain": [
       "<Figure size 432x288 with 1 Axes>"
      ]
     },
     "metadata": {
      "needs_background": "light"
     },
     "output_type": "display_data"
    }
   ],
   "source": [
    "sns.barplot(x=\"Levels\",y=\"Time Remaining\",data=dataA)\n",
    "plt.xlabel(\"Levels\")\n",
    "plt.ylabel(\"Time Elapsed\")\n",
    "plt.show()"
   ]
  },
  {
   "cell_type": "code",
   "execution_count": null,
   "metadata": {},
   "outputs": [],
   "source": []
  }
 ],
 "metadata": {
  "kernelspec": {
   "display_name": "Python 3",
   "language": "python",
   "name": "python3"
  },
  "language_info": {
   "codemirror_mode": {
    "name": "ipython",
    "version": 3
   },
   "file_extension": ".py",
   "mimetype": "text/x-python",
   "name": "python",
   "nbconvert_exporter": "python",
   "pygments_lexer": "ipython3",
   "version": "3.8.5"
  }
 },
 "nbformat": 4,
 "nbformat_minor": 4
}
